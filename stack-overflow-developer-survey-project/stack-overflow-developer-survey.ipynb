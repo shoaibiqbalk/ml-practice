{
 "cells": [
  {
   "cell_type": "markdown",
   "id": "5e8433ee",
   "metadata": {},
   "source": [
    "# Importing Libraries and CSV"
   ]
  },
  {
   "cell_type": "code",
   "execution_count": 1,
   "id": "4a393bd6",
   "metadata": {},
   "outputs": [
    {
     "ename": "ModuleNotFoundError",
     "evalue": "No module named 'pandas'",
     "output_type": "error",
     "traceback": [
      "\u001b[1;31m---------------------------------------------------------------------------\u001b[0m",
      "\u001b[1;31mModuleNotFoundError\u001b[0m                       Traceback (most recent call last)",
      "Input \u001b[1;32mIn [1]\u001b[0m, in \u001b[0;36m<cell line: 1>\u001b[1;34m()\u001b[0m\n\u001b[1;32m----> 1\u001b[0m \u001b[38;5;28;01mimport\u001b[39;00m \u001b[38;5;21;01mpandas\u001b[39;00m \u001b[38;5;28;01mas\u001b[39;00m \u001b[38;5;21;01mpd\u001b[39;00m\n\u001b[0;32m      2\u001b[0m pd\u001b[38;5;241m.\u001b[39mset_option(\u001b[38;5;124m'\u001b[39m\u001b[38;5;124mdisplay.max_columns\u001b[39m\u001b[38;5;124m'\u001b[39m, \u001b[38;5;241m86\u001b[39m)\n\u001b[0;32m      3\u001b[0m pd\u001b[38;5;241m.\u001b[39mset_option(\u001b[38;5;124m'\u001b[39m\u001b[38;5;124mdisplay.max_rows\u001b[39m\u001b[38;5;124m'\u001b[39m, \u001b[38;5;241m86\u001b[39m)\n",
      "\u001b[1;31mModuleNotFoundError\u001b[0m: No module named 'pandas'"
     ]
    }
   ],
   "source": [
    "import pandas as pd\n",
    "pd.set_option('display.max_columns', 86)\n",
    "pd.set_option('display.max_rows', 86)\n",
    "path = \"data/survey_results_public.csv\"\n",
    "path_schema = \"data/survey_results_schema.csv\"\n",
    "df = pd.read_csv(path, index_col = \"Respondent\")\n",
    "df.head() "
   ]
  },
  {
   "cell_type": "code",
   "execution_count": null,
   "id": "32d4ef71",
   "metadata": {},
   "outputs": [],
   "source": [
    "df.columns"
   ]
  },
  {
   "cell_type": "code",
   "execution_count": null,
   "id": "6108474a",
   "metadata": {},
   "outputs": [],
   "source": [
    "df.shape"
   ]
  },
  {
   "cell_type": "code",
   "execution_count": null,
   "id": "4ab030c1",
   "metadata": {},
   "outputs": [],
   "source": [
    "df.info()"
   ]
  },
  {
   "cell_type": "code",
   "execution_count": null,
   "id": "574518bc",
   "metadata": {},
   "outputs": [],
   "source": [
    "df.head()"
   ]
  },
  {
   "cell_type": "markdown",
   "id": "02464bd1",
   "metadata": {},
   "source": [
    "# Schema CSV"
   ]
  },
  {
   "cell_type": "code",
   "execution_count": null,
   "id": "6f99f918",
   "metadata": {},
   "outputs": [],
   "source": [
    "schema_df = pd.read_csv(path_schema, index_col = \"Column\")\n",
    "schema_df.sort_index(inplace = True)\n",
    "schema_df"
   ]
  },
  {
   "cell_type": "markdown",
   "id": "f3a03c14",
   "metadata": {},
   "source": [
    "### hobbyist vs non-hobbyist"
   ]
  },
  {
   "cell_type": "code",
   "execution_count": null,
   "id": "aa621bb3",
   "metadata": {},
   "outputs": [],
   "source": [
    "df['Hobbyist'].value_counts()"
   ]
  },
  {
   "cell_type": "markdown",
   "id": "29bc1777",
   "metadata": {},
   "source": [
    "### Salary greater than  $70000 "
   ]
  },
  {
   "cell_type": "code",
   "execution_count": null,
   "id": "dd71fa23",
   "metadata": {},
   "outputs": [],
   "source": [
    "high_salary = (df['ConvertedComp'] > 70000)"
   ]
  },
  {
   "cell_type": "code",
   "execution_count": null,
   "id": "db809550",
   "metadata": {
    "scrolled": true
   },
   "outputs": [],
   "source": [
    "df.loc[high_salary, ['Country', 'LanguageWorkedWith', 'ConvertedComp']]"
   ]
  },
  {
   "cell_type": "markdown",
   "id": "b63c67b2",
   "metadata": {},
   "source": [
    "### No. of Programmers from Pakistan"
   ]
  },
  {
   "cell_type": "code",
   "execution_count": null,
   "id": "89307641",
   "metadata": {},
   "outputs": [],
   "source": [
    "pak = ['Pakistan']\n",
    "filt = df['Country'].isin(pak)\n",
    "df.loc[filt, ['Country', 'ConvertedComp']]"
   ]
  },
  {
   "cell_type": "markdown",
   "id": "c31ab7f7",
   "metadata": {},
   "source": [
    "### Python Programmers"
   ]
  },
  {
   "cell_type": "code",
   "execution_count": null,
   "id": "66727b3d",
   "metadata": {},
   "outputs": [],
   "source": [
    "filt = df['LanguageWorkedWith'].str.contains('Python', na = False)\n",
    "df.loc[filt, 'LanguageWorkedWith']"
   ]
  },
  {
   "cell_type": "code",
   "execution_count": null,
   "id": "5c0cee58",
   "metadata": {},
   "outputs": [],
   "source": []
  }
 ],
 "metadata": {
  "kernelspec": {
   "display_name": "Python 3 (ipykernel)",
   "language": "python",
   "name": "python3"
  },
  "language_info": {
   "codemirror_mode": {
    "name": "ipython",
    "version": 3
   },
   "file_extension": ".py",
   "mimetype": "text/x-python",
   "name": "python",
   "nbconvert_exporter": "python",
   "pygments_lexer": "ipython3",
   "version": "3.10.5"
  }
 },
 "nbformat": 4,
 "nbformat_minor": 5
}
